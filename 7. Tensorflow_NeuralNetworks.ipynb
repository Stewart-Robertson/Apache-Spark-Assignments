{
 "cells": [
  {
   "cell_type": "markdown",
   "metadata": {
    "deletable": false,
    "editable": false,
    "nbgrader": {
     "grade": false,
     "grade_id": "cell-158395db1eb13989",
     "locked": true,
     "schema_version": 1,
     "solution": false
    }
   },
   "source": [
    " **<font size=5>Programming Assignment 8: Neural Networks with Tensorflow</font>**"
   ]
  },
  {
   "cell_type": "markdown",
   "metadata": {
    "deletable": false,
    "editable": false,
    "nbgrader": {
     "grade": false,
     "grade_id": "cell-c303936544fce875",
     "locked": true,
     "schema_version": 1,
     "solution": false
    }
   },
   "source": [
    "## Problem Statement\n",
    "\n",
    "In this programming assignment, you will write Tensorflow code to distinguish between a signal process which produces Higgs bosons and a background process which does not. We model this problem as a binary classification problem. \n",
    "\n",
    "Note: This assignment is not designed to make you a professional Tensorflow programmer, but rather to introduce you to, and make you practice, the basic constructs and functionalities of Tensorflow. "
   ]
  },
  {
   "cell_type": "markdown",
   "metadata": {
    "deletable": false,
    "editable": false,
    "nbgrader": {
     "grade": false,
     "grade_id": "cell-9cedd227ae71fb17",
     "locked": true,
     "schema_version": 1,
     "solution": false
    }
   },
   "source": [
    "### CPU vs GPU\n",
    "\n",
    "You may want to read [this article](https://www.analyticsvidhya.com/blog/2017/05/gpus-necessary-for-deep-learning/) to know more about the CPU vs GPU discussion. This is totally optional, still highly recommended for those who are interested. \n",
    "\n",
    "You do not need to write any \"GPU specific\" code. Tensorflow automatically recognizes the underlying hardware, and optimizes your code to run accordingly.\n",
    "\n",
    "The most common bottleneck to training faster with a GPU is usually the speed at which data is fed to the GPU for processing. So the input data pipeline is an important construct when writing efficient, scalable code to train Neural networks using Tensorflow."
   ]
  },
  {
   "cell_type": "markdown",
   "metadata": {
    "deletable": false,
    "editable": false,
    "nbgrader": {
     "grade": false,
     "grade_id": "cell-f87b642b5252980b",
     "locked": true,
     "schema_version": 1,
     "solution": false
    }
   },
   "source": [
    "### Dataset\n",
    "\n",
    "For this assignment, we will use sampled data from a well known dataset: [Higgs Dataset](https://archive.ics.uci.edu/ml/datasets/HIGGS). \n",
    "\n",
    "Some information regarding the data and the problem: \n",
    "\n",
    "This is a classification problem to distinguish between a signal process which produces Higgs bosons and a background process which does not. The data has been produced using Monte Carlo simulations. The first 21 features (columns 2-22) are kinematic properties measured by the particle detectors in the accelerator. The last seven features are functions of the first 21 features; these are high-level features derived by physicists to help discriminate between the two classes."
   ]
  },
  {
   "cell_type": "markdown",
   "metadata": {
    "deletable": false,
    "editable": false,
    "nbgrader": {
     "grade": false,
     "grade_id": "cell-0f1b9f41248e8378",
     "locked": true,
     "schema_version": 1,
     "solution": false
    }
   },
   "source": [
    "The train and test files have the following characteristics:\n",
    "\n",
    "- The first row is a header that contains a comma-separated list of the names of the label and attributes\n",
    "- Each successive row represents a single example\n",
    "- The first column of each example is the label to be learned, and all other columns are attribute values.\n",
    "- All attributes are numerical i.e. real numbers."
   ]
  },
  {
   "cell_type": "markdown",
   "metadata": {
    "deletable": false,
    "editable": false,
    "nbgrader": {
     "grade": false,
     "grade_id": "cell-fc620c75541dd80e",
     "locked": true,
     "schema_version": 1,
     "solution": false
    }
   },
   "source": [
    "### Testing and Evaluation\n",
    "\n",
    "\n",
    "For local testing and for two of the three submissions, you will use the small training and test datasets that have been provided along with this notebook. \n",
    "\n",
    "When submitting on EdX, your code will be trained and evaluated on a much larger sample of the full dataset. \n",
    "\n",
    "Some suggestions you should keep in mind while implementing the functions:\n",
    "\n",
    "- Avoid doing repeated work i.e. anything that could be done outside the loop, should be outside.\n",
    "- Read the markdown of this notebook carefully."
   ]
  },
  {
   "cell_type": "markdown",
   "metadata": {
    "deletable": false,
    "editable": false,
    "nbgrader": {
     "grade": false,
     "grade_id": "cell-6995099148a8d8ee",
     "locked": true,
     "schema_version": 1,
     "solution": false
    }
   },
   "source": [
    "### Configuration File\n",
    "\n",
    "To make your code more robust, and to aid the process of grading your work, most of the required parameters for the network training and testing will come from a [YAML](http://yaml.org/) config file named \"nn_config.yaml\". \n",
    "\n",
    "This file is present in the same directory as the notebook. We have added default values to parameters, but you may modify them for debugging purposes. \n",
    "\n",
    "Information regarding what these variables mean, and how you should use them is present as comments in the yaml file. Information regarding how to read variables from the YAML config file is mentioned later in this notebook.\n",
    "\n",
    "However, remember that for grading your work we will use our own config files. So your code should always refer to variable values from the config file."
   ]
  },
  {
   "cell_type": "code",
   "execution_count": 220,
   "metadata": {
    "deletable": false,
    "editable": false,
    "nbgrader": {
     "grade": false,
     "grade_id": "cell-0e011b46c2ce211f",
     "locked": true,
     "schema_version": 1,
     "solution": false
    }
   },
   "outputs": [
    {
     "name": "stdout",
     "output_type": "stream",
     "text": [
      "## Training data file path\r\n",
      "training_data_path: ../resource/lib/publicdata/hw8/higgs_train_large.csv\r\n",
      "\r\n",
      "## Testing data file path\r\n",
      "test_data_path: ../resource/lib/publicdata/hw8/higgs_test_large.csv \r\n",
      "\r\n",
      "## Location in which you will save the pickle file containing predictions on test data\r\n",
      "output_predictions_pickle_path: ./test_predictions.pkl\r\n",
      "\r\n",
      "## How to split the input training data into train and validation sets. Value of 0.8 means that if there were initially 100 training examples in the input data, you should split them such that the first 80 are used as training examples and last 20 should be used for validation.\r\n",
      "training_to_validation_ratio: 0.8\r\n",
      "\r\n",
      "## the learning rate you should use for your optimizer \r\n",
      "learning_rate: 0.05\r\n",
      "\r\n",
      "## the total number of epochs or iterations to run over the (80) training examples\r\n",
      "epochs: 200\r\n",
      "\r\n",
      "## the number of mini batches in which you should split your training examples. Continuing with our example, if this value is 10, then each mini batch will have 8 training examples.\r\n",
      "num_mini_batches: 5\r\n",
      "\r\n",
      "## this variable is for your own use to modify when you would like to print any debug statements inside your training loop. For example, a value of 5 may suggest that you should print the training loss, validation loss, training accuracy and validation accuracy every 5 epochs.\r\n",
      "display_step: 1\r\n",
      "\r\n",
      "## the size of the network. If first_layer: 20 and second_layer: 8 then you should set the number of hidden units in first hidden layer and second layer to be 20 and 8 respectively.\r\n",
      "hidden_layer_sizes: \r\n",
      "    first_layer: 20\r\n",
      "    second_layer: 8\r\n",
      "\r\n",
      "## for grading purposes, you may ignore\r\n",
      "dataset_size: large\r\n",
      "grading_script_path: ../resource/lib/publicdata/hw8/grade_test_submission.py"
     ]
    }
   ],
   "source": [
    "# Let's look at the contents of the YAML config file\n",
    "!cat nn_config.yaml "
   ]
  },
  {
   "cell_type": "markdown",
   "metadata": {
    "deletable": false,
    "editable": false,
    "nbgrader": {
     "grade": false,
     "grade_id": "cell-4a4e23526701b920",
     "locked": true,
     "schema_version": 1,
     "solution": false
    }
   },
   "source": [
    "## Gameplan\n",
    "\n",
    "You will write robust code that builds a feedforward neural network, and trains it according to the given set of parameters.\n",
    "\n",
    "1. We will first load the training and test data using the parameters from the config file.\n",
    "2. We will then split the training data into training and validation sets using the value of \"training_to_validation_ratio\" parameter in the config. \n",
    "    For example, if the param is 0.8, it means that the initial 80% of the data should be kept for training, while the rest 20% should be used for validation.\n",
    "3. We will use Cross Entropy Loss as our cost functions and minimize it using AdamOptimizer as our optimizer.\n",
    "4. We will train our model in batches inside our main training loop. You will divide the training data into `num_batches` number of mini batches and for each epoch you will iterate and train over those many number of batches.\n",
    "5. You can use \"display_step\" param to control the frequency of print statements.\n",
    "6. You will maintain a list of training accuracies and losses (one value for each epoch).\n",
    "7. You will maintain a list of validation accuracy and loss (one value for each epoch)."
   ]
  },
  {
   "cell_type": "markdown",
   "metadata": {
    "deletable": false,
    "editable": false,
    "nbgrader": {
     "grade": false,
     "grade_id": "cell-c5dc5f0d1795d09a",
     "locked": true,
     "schema_version": 1,
     "solution": false
    }
   },
   "source": [
    "\n",
    "    The function tf.reduce_sum will allow you to sum across all instances.\n",
    "    "
   ]
  },
  {
   "cell_type": "markdown",
   "metadata": {
    "deletable": false,
    "editable": false,
    "nbgrader": {
     "grade": false,
     "grade_id": "cell-2952f5d422d0d1e7",
     "locked": true,
     "schema_version": 1,
     "solution": false
    }
   },
   "source": [
    "5) You should train your network using your inputted learning rate and for the inputted number of iterations. The iterations are simply a loop that calls Backpropagation a fixed number of times."
   ]
  },
  {
   "cell_type": "markdown",
   "metadata": {},
   "source": [
    "## Initialization "
   ]
  },
  {
   "cell_type": "code",
   "execution_count": 221,
   "metadata": {
    "collapsed": true,
    "deletable": false,
    "editable": false,
    "nbgrader": {
     "grade": false,
     "grade_id": "cell-9c01b1c216ee0572",
     "locked": true,
     "schema_version": 1,
     "solution": false
    }
   },
   "outputs": [],
   "source": [
    "## Tensorflow produces a lot of warnings. We generally want to suppress them. The below code does exactly that. \n",
    "import warnings\n",
    "warnings.filterwarnings('ignore')"
   ]
  },
  {
   "cell_type": "code",
   "execution_count": 222,
   "metadata": {
    "collapsed": true,
    "deletable": false,
    "editable": false,
    "nbgrader": {
     "grade": false,
     "grade_id": "cell-a554a48f73f64b13",
     "locked": true,
     "schema_version": 1,
     "solution": false
    }
   },
   "outputs": [],
   "source": [
    "import tensorflow as tf\n",
    "import numpy as np\n",
    "from matplotlib import pyplot as plt\n",
    "\n",
    "## Pretty Print\n",
    "import pprint as pp"
   ]
  },
  {
   "cell_type": "code",
   "execution_count": 223,
   "metadata": {
    "collapsed": true,
    "deletable": false,
    "editable": false,
    "nbgrader": {
     "grade": false,
     "grade_id": "cell-d1e7a22edc0fe397",
     "locked": true,
     "schema_version": 1,
     "solution": false
    }
   },
   "outputs": [],
   "source": [
    "import yaml\n",
    "def import_config():\n",
    "    with open(\"nn_config.yaml\", 'r') as ymlfile:\n",
    "        try:\n",
    "            cfg = yaml.load(ymlfile)\n",
    "        except yaml.YAMLError as err:\n",
    "            print(err)\n",
    "    return cfg"
   ]
  },
  {
   "cell_type": "code",
   "execution_count": 224,
   "metadata": {
    "deletable": false,
    "editable": false,
    "nbgrader": {
     "grade": false,
     "grade_id": "cell-fbb7c3cab0be00a7",
     "locked": true,
     "schema_version": 1,
     "solution": false
    }
   },
   "outputs": [
    {
     "name": "stdout",
     "output_type": "stream",
     "text": [
      "Close interactive session\n",
      "Your hardware either does not have a GPU or is not configured to use the GPU version of TF.\n",
      "        However, you do not need a GPU for this assignment as you will be completing this assigment on a\n",
      "        CPU enviroment, but evaluating it on a GPU enviroment.\n"
     ]
    }
   ],
   "source": [
    "if 'session' in locals() and session is not None:\n",
    "    print('Close interactive session')\n",
    "    session.close()\n",
    "\n",
    "config = tf.ConfigProto()\n",
    "config.gpu_options.allow_growth = True                    # Dynamically grow the memory used on the GPU\n",
    "session = tf.Session(config=config)\n",
    "    \n",
    "## The below function tests if Tensorflow has access to GPU or not.\n",
    "def test_cpu_gpu():\n",
    "    if tf.test.gpu_device_name():\n",
    "        print('Default GPU Device: {}'.format(tf.test.gpu_device_name()))\n",
    "    else:\n",
    "        print('''Your hardware either does not have a GPU or is not configured to use the GPU version of TF.\n",
    "        However, you do not need a GPU for this assignment as you will be completing this assigment on a\n",
    "        CPU enviroment, but evaluating it on a GPU enviroment.''')\n",
    "        \n",
    "test_cpu_gpu()"
   ]
  },
  {
   "cell_type": "code",
   "execution_count": 225,
   "metadata": {
    "deletable": false,
    "editable": false,
    "nbgrader": {
     "grade": false,
     "grade_id": "cell-4a59bb5add2fa75d",
     "locked": true,
     "schema_version": 1,
     "solution": false
    }
   },
   "outputs": [
    {
     "name": "stdout",
     "output_type": "stream",
     "text": [
      "{'dataset_size': 'large',\n",
      " 'display_step': 1,\n",
      " 'epochs': 200,\n",
      " 'grading_script_path': '../resource/lib/publicdata/hw8/grade_test_submission.py',\n",
      " 'hidden_layer_sizes': {'first_layer': 20, 'second_layer': 8},\n",
      " 'learning_rate': 0.05,\n",
      " 'num_mini_batches': 5,\n",
      " 'output_predictions_pickle_path': './test_predictions.pkl',\n",
      " 'test_data_path': '../resource/lib/publicdata/hw8/higgs_test_large.csv',\n",
      " 'training_data_path': '../resource/lib/publicdata/hw8/higgs_train_large.csv',\n",
      " 'training_to_validation_ratio': 0.8}\n"
     ]
    }
   ],
   "source": [
    "cfg = import_config()\n",
    "\n",
    "## Is it loaded correctly?\n",
    "pp.pprint(cfg)"
   ]
  },
  {
   "cell_type": "code",
   "execution_count": 226,
   "metadata": {
    "collapsed": true
   },
   "outputs": [],
   "source": [
    "# Removes the old test_predictions.pkl file\n",
    "# so that it will not affect your final tests at the end of the notebook\n",
    "!rm test_predictions.pkl 2> /dev/null"
   ]
  },
  {
   "cell_type": "markdown",
   "metadata": {},
   "source": [
    "## Reading in Data "
   ]
  },
  {
   "cell_type": "code",
   "execution_count": 227,
   "metadata": {
    "collapsed": true,
    "deletable": false,
    "editable": false,
    "nbgrader": {
     "grade": false,
     "grade_id": "cell-855db077a3fa0f0b",
     "locked": true,
     "schema_version": 1,
     "solution": false
    }
   },
   "outputs": [],
   "source": [
    "train_file_name = cfg['training_data_path']\n",
    "test_file_name = cfg['test_data_path']"
   ]
  },
  {
   "cell_type": "code",
   "execution_count": 228,
   "metadata": {
    "collapsed": true
   },
   "outputs": [],
   "source": [
    "# =========================================================================================== #\n",
    "# Uncomment this to test on smaller dataset. This is faster and can be used to debug quickly. #\n",
    "# PLEASE COMMENT THIS BEFORE SUBMITTING. YOUR NOTEBOOK IS EVALUATED ON LARGE DATASET.         #\n",
    "# =========================================================================================== #\n",
    "\n",
    "#train_file_name = '../resource/lib/publicdata/hw8/higgs_train_small.csv'\n",
    "#test_file_name = '../resource/lib/publicdata/hw8/higgs_test_small.csv'"
   ]
  },
  {
   "cell_type": "code",
   "execution_count": 229,
   "metadata": {
    "collapsed": true,
    "deletable": false,
    "editable": false,
    "nbgrader": {
     "grade": false,
     "grade_id": "cell-a6fc5a4686fa8347",
     "locked": true,
     "schema_version": 1,
     "solution": false
    }
   },
   "outputs": [],
   "source": [
    "## Loading the Data\n",
    "training_data = np.loadtxt(train_file_name, delimiter = ',')\n",
    "test_data = np.loadtxt(test_file_name, delimiter = ',')"
   ]
  },
  {
   "cell_type": "code",
   "execution_count": 230,
   "metadata": {},
   "outputs": [
    {
     "data": {
      "text/plain": [
       "array([ 1.        ,  0.86929321, -0.63508183,  0.22569026,  0.32747006,\n",
       "       -0.6899932 ,  0.75420225, -0.24857314, -1.0920639 ,  0.        ,\n",
       "        1.37499213, -0.65367419,  0.93034911,  1.10743606,  1.13890433,\n",
       "       -1.57819831, -1.04698539,  0.        ,  0.65792954, -0.01045457,\n",
       "       -0.04576717,  3.10196137,  1.35376   ,  0.97956312,  0.97807616,\n",
       "        0.92000484,  0.72165745,  0.98875093,  0.87667835])"
      ]
     },
     "execution_count": 230,
     "metadata": {},
     "output_type": "execute_result"
    }
   ],
   "source": [
    "training_data[0]"
   ]
  },
  {
   "cell_type": "markdown",
   "metadata": {
    "deletable": false,
    "editable": false,
    "nbgrader": {
     "grade": false,
     "grade_id": "cell-f6ae15f9a3523674",
     "locked": true,
     "schema_version": 1,
     "solution": false
    }
   },
   "source": [
    "Now we have loaded the training and test data. However, we cannot use it directly. We first need to standardize it."
   ]
  },
  {
   "cell_type": "markdown",
   "metadata": {
    "deletable": false,
    "editable": false,
    "nbgrader": {
     "grade": false,
     "grade_id": "cell-bb592faa9bc02c71",
     "locked": true,
     "schema_version": 1,
     "solution": false
    }
   },
   "source": [
    "### Exercise: Implement the Standardize Function \n",
    "\n",
    "Neural networks work best when all features roughly are on the same scale and are centered around the mean.\n",
    "\n",
    "This is done by standardizing the feature vectors. Feature standardization makes the values of each feature in the data have zero-mean (when subtracting the mean in the numerator) and unit-variance.\n",
    "\n",
    "The function <font color=\"blue\">standardize</font> takes the input data and determines the distribution mean and standard deviation for each feature. Next the mean is subtracted from each feature. Then the mean-subtracted values of each feature are divided by its standard deviation.\n",
    "\n",
    "**<font color=\"magenta\" size=2>Example Input</font>**\n",
    "There are 3 training examples with 4 features each \n",
    "``` python\n",
    "np.array([[-0.22 -0.19 -0.17 -0.13][-0.1 -0.05 0.02 0.10][0.03 0.11 0.12 0.15]])\n",
    "```\n",
    "\n",
    "**<font color=\"blue\" size=2>Example Output</font>**\n",
    "There are 3 training examples (which have been standardized) along each of the 4 features\n",
    "``` python\n",
    "array([[-1.20809282, -1.19664225, -1.33025759, -1.39425471],\n",
    "       [-0.03265116, -0.05439283,  0.2494233 ,  0.4920899 ],\n",
    "       [ 1.24074398,  1.25103507,  1.08083429,  0.90216481]])\n",
    "```\n",
    "\n",
    "Refer the \"Standardization\" section of this [Wikipedia Feature Scaling Article](https://en.wikipedia.org/wiki/Feature_scaling)."
   ]
  },
  {
   "cell_type": "code",
   "execution_count": 231,
   "metadata": {
    "nbgrader": {
     "grade": false,
     "grade_id": "cell-305b411920b596a3",
     "locked": false,
     "schema_version": 1,
     "solution": true
    }
   },
   "outputs": [
    {
     "name": "stdout",
     "output_type": "stream",
     "text": [
      "[[-1.208 -1.197 -1.33  -1.394]\n",
      " [-0.033 -0.054  0.249  0.492]\n",
      " [ 1.241  1.251  1.081  0.902]]\n"
     ]
    }
   ],
   "source": [
    "def standardize(data):\n",
    "    ###\n",
    "    ### YOUR CODE HERE\n",
    "    ###\n",
    "    \n",
    "    num_features = len(data[0])\n",
    "    \n",
    "    # ensure the number of features in each example is the same\n",
    "    for i in range(len(data)-1):\n",
    "        if len(data[i]) != len(data[i+1]):\n",
    "            return 'Error: the number of features in each example is not equal'\n",
    "    \n",
    "    # loop through each feature in each example to find the mean and std of each feature\n",
    "    mean_list = []\n",
    "    std_list = []\n",
    "    for i in range(num_features):\n",
    "        mean_list.append(np.mean(data[:, i]))\n",
    "        std_list.append(np.std(data[:, i]))\n",
    "    \n",
    "    # subtract the mean from the data\n",
    "    data_sub_mean = data - mean_list\n",
    "    \n",
    "    return np.round(data_sub_mean/std_list, 3)\n",
    "    \n",
    "dummy = np.array([[-0.22, -0.19, -0.17, -0.13],[-0.1, -0.05, 0.02, 0.10],[0.03, 0.11, 0.12, 0.15]])\n",
    "print(standardize(dummy))"
   ]
  },
  {
   "cell_type": "code",
   "execution_count": 232,
   "metadata": {
    "collapsed": true,
    "deletable": false,
    "editable": false,
    "nbgrader": {
     "grade": true,
     "grade_id": "standardize_vt",
     "locked": true,
     "points": "5",
     "schema_version": 1,
     "solution": false
    },
    "scrolled": true
   },
   "outputs": [],
   "source": [
    "dummy = np.array([[-0.22, -0.19, -0.17, -0.13],[-0.1, -0.05, 0.02, 0.10],[0.03, 0.11, 0.12, 0.15]])\n",
    "assert standardize(dummy).__class__ == np.ndarray, \"should return numpy array\"\n",
    "assert standardize(dummy).shape == dummy.shape, \"should have the same shape as the input array\"\n",
    "\n",
    "dummy_ans = np.round(np.array([[-1.20809282, -1.19664225, -1.33025759, -1.39425471],\n",
    "       [-0.03265116, -0.05439283,  0.2494233 ,  0.4920899 ],\n",
    "       [ 1.24074398,  1.25103507,  1.08083429,  0.90216481]]),3)\n",
    "assert (np.round(standardize(dummy)[0],3)==dummy_ans[0]).all(), \"check for correct return value failed\"\n",
    "assert (np.round(standardize(dummy)[2],3)==dummy_ans[2]).all(), \"check for correct return value failed\"\n",
    "del dummy, dummy_ans"
   ]
  },
  {
   "cell_type": "code",
   "execution_count": 233,
   "metadata": {
    "collapsed": true,
    "deletable": false,
    "editable": false,
    "nbgrader": {
     "grade": true,
     "grade_id": "standardize_ht",
     "locked": true,
     "points": "10",
     "schema_version": 1,
     "solution": false
    },
    "scrolled": true
   },
   "outputs": [],
   "source": [
    "# Hidden Tests Here\n",
    "\n",
    "###\n",
    "### AUTOGRADER TEST - DO NOT REMOVE\n",
    "###\n"
   ]
  },
  {
   "cell_type": "markdown",
   "metadata": {
    "deletable": false,
    "editable": false,
    "nbgrader": {
     "grade": false,
     "grade_id": "cell-6d1d2ce4cf36f9c1",
     "locked": true,
     "schema_version": 1,
     "solution": false
    }
   },
   "source": [
    "### Exercise: Implement the parse_training_data function\n",
    "\n",
    "The function <font color=\"blue\">parse_training_data</font> takes the input data and returns labels and features. \n",
    "\n",
    "Remember that the first column of the training data is the labels, and the remaining columns are the features\n",
    "\n",
    "The labels should be reshaped to a 2-D numpy matrix of shape (dataset_size, 1)\n",
    "The features should be standardized and have be a 2-D numpy matrix of shape (dataset_size, 28)\n",
    "\n",
    "**<font color=\"magenta\" size=2>Example Input</font>**\n",
    "There are 3 training examples with the label and 3 features each \n",
    "``` python\n",
    "np.array([[1 -0.19 -0.17 -0.13][0 -0.05 0.02 0.10][0 0.11 0.12 0.15]])\n",
    "```\n",
    "\n",
    "**<font color=\"blue\" size=2>Example Output</font>**\n",
    "Returns a tuple:\n",
    "    1st element is the labels\n",
    "    2nd element is the standardized features\n",
    "``` python\n",
    "(array([[1.],\n",
    "        [0.],\n",
    "        [1.]]), array([[-1.4688735 , -1.3105518 , -0.99390842],\n",
    "        [-0.36062164,  0.19350429,  0.82679107],\n",
    "        [ 0.90595192,  0.98511277,  1.22259531]]))\n",
    "```\n",
    "\n",
    "\n",
    "Remember to use the standardize function appropriately inside this function and use the visible assert statements to finetune the shape of your returned data."
   ]
  },
  {
   "cell_type": "code",
   "execution_count": 264,
   "metadata": {
    "nbgrader": {
     "grade": false,
     "grade_id": "cell-b74473c65b9d3782",
     "locked": false,
     "schema_version": 1,
     "solution": true
    }
   },
   "outputs": [
    {
     "name": "stdout",
     "output_type": "stream",
     "text": [
      "(3, 3)\n",
      "(3, 1)\n",
      "(array([[1.],\n",
      "       [0.],\n",
      "       [0.]]), array([[-1.197, -1.33 , -1.394],\n",
      "       [-0.054,  0.249,  0.492],\n",
      "       [ 1.251,  1.081,  0.902]]))\n"
     ]
    }
   ],
   "source": [
    "def parse_training_data(numpy_matrix):  \n",
    "    ###\n",
    "    ### YOUR CODE HERE\n",
    "    ###\n",
    "    \n",
    "    # the data size is the number of examples in the input matrix\n",
    "    data_size = len(numpy_matrix)\n",
    "    \n",
    "    # select out the labels and features from their indices in the matrix\n",
    "    labels = np.array([numpy_matrix[i][0] for i in range(data_size)])\n",
    "    features_array = np.array([numpy_matrix[i][1:] for i in range(data_size)])\n",
    "    \n",
    "    # reshape the labels array\n",
    "    labels = np.reshape(labels, (len(labels), 1))\n",
    "    \n",
    "    # use the standardize function created earlier to standardize each feature\n",
    "    features = standardize(features_array)\n",
    "    \n",
    "    #features = np.reshape(features, len(features), 28)\n",
    "    print(features.shape)\n",
    "    print(labels.shape)\n",
    "    \n",
    "    return labels, features\n",
    "\n",
    "matrix=np.array([[1, -0.19, -0.17, -0.13],[0, -0.05, 0.02, 0.10],[0, 0.11, 0.12, 0.15]])\n",
    "print(parse_training_data(matrix))"
   ]
  },
  {
   "cell_type": "code",
   "execution_count": 235,
   "metadata": {
    "collapsed": true,
    "deletable": false,
    "editable": false,
    "nbgrader": {
     "grade": false,
     "grade_id": "cell-f0e069072154f863",
     "locked": true,
     "schema_version": 1,
     "solution": false
    }
   },
   "outputs": [],
   "source": [
    "# Parse Training Data. You will later split the `labels` and `features` into training and validation sets.\n",
    "labels, features = parse_training_data(training_data)"
   ]
  },
  {
   "cell_type": "code",
   "execution_count": 236,
   "metadata": {
    "collapsed": true,
    "deletable": false,
    "editable": false,
    "nbgrader": {
     "grade": true,
     "grade_id": "shape_v",
     "locked": true,
     "points": "5",
     "schema_version": 1,
     "solution": false
    }
   },
   "outputs": [],
   "source": [
    "assert labels.shape[1] == 1\n",
    "assert features.shape[1] == 28"
   ]
  },
  {
   "cell_type": "code",
   "execution_count": 237,
   "metadata": {
    "collapsed": true,
    "deletable": false,
    "editable": false,
    "nbgrader": {
     "grade": true,
     "grade_id": "values_h",
     "locked": true,
     "points": "10",
     "schema_version": 1,
     "solution": false
    }
   },
   "outputs": [],
   "source": [
    "###\n",
    "### AUTOGRADER TEST - DO NOT REMOVE\n",
    "###\n"
   ]
  },
  {
   "cell_type": "markdown",
   "metadata": {
    "deletable": false,
    "editable": false,
    "nbgrader": {
     "grade": false,
     "grade_id": "cell-714a63065a14a65f",
     "locked": true,
     "schema_version": 1,
     "solution": false
    }
   },
   "source": [
    "### Exercise: Implement the parse_test_data function\n",
    "\n",
    "The function <font color=\"blue\">parse_test_data</font> takes the input data and returns labels and features. \n",
    "\n",
    "We do not have access to labels while predicting the classes that our test examples belong to. The input data files for the test data would not have the labels column. \n",
    "\n",
    "So we need a different function to parse the test data. This should only return standardized features.\n",
    "\n",
    "The features should be standardized and have be a 2-D numpy matrix of shape (dataset_size, 28)\n",
    "\n",
    "**<font color=\"magenta\" size=2>Example Input</font>**\n",
    "There are 3 training examples with the label and 3 features each \n",
    "``` python\n",
    "np.array([[-0.19 -0.17 -0.13][-0.05 0.02 0.10][0.11 0.12 0.15]])\n",
    "```\n",
    "\n",
    "**<font color=\"blue\" size=2>Example Output</font>**\n",
    "Returns a tuple:\n",
    "    1st element is the labels\n",
    "    2nd element is the standardized features\n",
    "``` python\n",
    "array([[-1.4688735 , -1.3105518 , -0.99390842],\n",
    "        [-0.36062164,  0.19350429,  0.82679107],\n",
    "        [ 0.90595192,  0.98511277,  1.22259531]])\n",
    "```\n",
    "\n",
    "\n",
    "Remember to use the standardize function appropriately inside this function."
   ]
  },
  {
   "cell_type": "code",
   "execution_count": 238,
   "metadata": {
    "nbgrader": {
     "grade": false,
     "grade_id": "cell-cd58458c52559f0a",
     "locked": false,
     "schema_version": 1,
     "solution": true
    }
   },
   "outputs": [
    {
     "name": "stdout",
     "output_type": "stream",
     "text": [
      "[[-1.197 -1.33  -1.394]\n",
      " [-0.054  0.249  0.492]\n",
      " [ 1.251  1.081  0.902]]\n"
     ]
    }
   ],
   "source": [
    "def parse_test_data(numpy_matrix):\n",
    "    \n",
    "    ###\n",
    "    ### YOUR CODE HERE\n",
    "    ###\n",
    "    \n",
    "    data_size = len(numpy_matrix)\n",
    "    features_array = np.array([numpy_matrix[i][:] for i in range(data_size)])\n",
    "    \n",
    "    test_features = standardize(features_array)\n",
    "    \n",
    "    return test_features\n",
    "\n",
    "matr = np.array([[-0.19, -0.17, -0.13],[-0.05, 0.02, 0.10],[0.11, 0.12, 0.15]])\n",
    "print(parse_test_data(matr))"
   ]
  },
  {
   "cell_type": "code",
   "execution_count": 239,
   "metadata": {
    "collapsed": true,
    "deletable": false,
    "editable": false,
    "nbgrader": {
     "grade": false,
     "grade_id": "cell-febfb665f2f27e1e",
     "locked": true,
     "schema_version": 1,
     "solution": false
    }
   },
   "outputs": [],
   "source": [
    "test_features = parse_test_data(test_data)"
   ]
  },
  {
   "cell_type": "markdown",
   "metadata": {
    "deletable": false,
    "editable": false,
    "nbgrader": {
     "grade": false,
     "grade_id": "cell-0de20ca899b3afe6",
     "locked": true,
     "schema_version": 1,
     "solution": false
    }
   },
   "source": [
    "## Building the Neural Network "
   ]
  },
  {
   "cell_type": "markdown",
   "metadata": {
    "deletable": false,
    "editable": false,
    "nbgrader": {
     "grade": false,
     "grade_id": "cell-6b3f768be0607ffd",
     "locked": true,
     "schema_version": 1,
     "solution": false
    }
   },
   "source": [
    "### Initializing important parameters\n",
    "Use the below params appropriately inside the train_nn() function. We have initialized these variables in order to assist you in your implementation."
   ]
  },
  {
   "cell_type": "code",
   "execution_count": 240,
   "metadata": {
    "deletable": false,
    "editable": false,
    "nbgrader": {
     "grade": false,
     "grade_id": "cell-9496cea12852d1fa",
     "locked": true,
     "schema_version": 1,
     "solution": false
    }
   },
   "outputs": [
    {
     "name": "stdout",
     "output_type": "stream",
     "text": [
      "Total Training examples: 8000, Number of Batches: 5, Batch Size: 1600\n"
     ]
    }
   ],
   "source": [
    "learning_rate = cfg['learning_rate']\n",
    "training_epochs = cfg['epochs']\n",
    "train_valid_split = cfg['training_to_validation_ratio']\n",
    "num_batches = cfg['num_mini_batches']\n",
    "display_step = cfg['display_step']\n",
    "\n",
    "num_examples= training_data.shape[0]\n",
    "\n",
    "# The first `num_train_examples` should be used for training, the rest for validation.\n",
    "num_train_examples = int(num_examples * train_valid_split)\n",
    "\n",
    "batch_size = num_train_examples/num_batches\n",
    "\n",
    "\n",
    "# Network Parameters\n",
    "n_hidden_1 = cfg['hidden_layer_sizes']['first_layer'] # 1st layer number of features\n",
    "n_hidden_2 = cfg['hidden_layer_sizes']['second_layer'] # 2nd layer number of features\n",
    "n_input = 28 \n",
    "n_classes = 1 \n",
    "\n",
    "\n",
    "print(\"Total Training examples: %d, Number of Batches: %d, Batch Size: %d\" %(num_train_examples,num_batches,batch_size))"
   ]
  },
  {
   "cell_type": "markdown",
   "metadata": {
    "deletable": false,
    "editable": false,
    "nbgrader": {
     "grade": false,
     "grade_id": "cell-dc994f1830e0a244",
     "locked": true,
     "schema_version": 1,
     "solution": false
    }
   },
   "source": [
    "### Initializing placeholders for feeding into the TF graph\n",
    "\n",
    "Define the TF placeholders which will receive data for each mini batch. Similarly define weights and biases as TF variables "
   ]
  },
  {
   "cell_type": "code",
   "execution_count": 241,
   "metadata": {
    "collapsed": true,
    "deletable": false,
    "editable": false,
    "nbgrader": {
     "grade": false,
     "grade_id": "cell-47aa2936b36e30b8",
     "locked": true,
     "schema_version": 1,
     "solution": false
    }
   },
   "outputs": [],
   "source": [
    "# TF Graph input\n",
    "## Use the below placeholders appropriately inside the train_nn() function\n",
    "\n",
    "x = tf.placeholder(\"float\", [None, n_input])\n",
    "y = tf.placeholder(\"float\", [None, 1])\n",
    "\n",
    "\n",
    "# Store layers weight & bias\n",
    "weights = {\n",
    "    'h1': tf.Variable(tf.random_normal([n_input, n_hidden_1])),\n",
    "    'h2': tf.Variable(tf.random_normal([n_hidden_1, n_hidden_2])),\n",
    "    'out': tf.Variable(tf.random_normal([n_hidden_2, n_classes]))\n",
    "}\n",
    "\n",
    "biases = {\n",
    "    'b1': tf.Variable(tf.random_normal([n_hidden_1])),\n",
    "    'b2': tf.Variable(tf.random_normal([n_hidden_2])),\n",
    "    'out': tf.Variable(tf.random_normal([n_classes]))\n",
    "}"
   ]
  },
  {
   "cell_type": "markdown",
   "metadata": {
    "deletable": false,
    "editable": false,
    "nbgrader": {
     "grade": false,
     "grade_id": "cell-714a63065a14a6sd5f",
     "locked": true,
     "schema_version": 1,
     "solution": false
    }
   },
   "source": [
    "### Exercise: Implement the `calc_num_total_learnable_params` function.\n",
    "\n",
    "This function  calculates the number of learnable parameters of the network model. This number directly relates to the complexity of your model, as well as the training time. \n",
    "\n",
    "The function <font color=\"blue\">calc_num_total_learnable_params</font> takes the weights dictionary and bias dictionary and returns an integer which is equal to the number of total parameters in the network. \n",
    "\n",
    "You can make use of the `get_dims_as_tuple` as a helper function to access the shape of the weight and bias matrices easily."
   ]
  },
  {
   "cell_type": "code",
   "execution_count": 242,
   "metadata": {
    "deletable": false,
    "editable": false,
    "nbgrader": {
     "grade": false,
     "grade_id": "cell-bb3e6250332e0033",
     "locked": true,
     "schema_version": 1,
     "solution": false
    }
   },
   "outputs": [
    {
     "data": {
      "text/plain": [
       "(28, 20)"
      ]
     },
     "execution_count": 242,
     "metadata": {},
     "output_type": "execute_result"
    }
   ],
   "source": [
    "# Helper function which you may use in implementing `calc_num_total_learnable_params(weights,biases)` function below.\n",
    "def get_dims_as_tuple(x):\n",
    "    shape = x.get_shape()\n",
    "    dims = []\n",
    "    for dim in shape:\n",
    "        dims.append(dim.value)\n",
    "    return tuple(dims)\n",
    "\n",
    "# example usage:\n",
    "get_dims_as_tuple(weights['h1'])"
   ]
  },
  {
   "cell_type": "code",
   "execution_count": 275,
   "metadata": {
    "nbgrader": {
     "grade": false,
     "grade_id": "cell-94e7366afdd6358a",
     "locked": false,
     "schema_version": 1,
     "solution": true
    }
   },
   "outputs": [
    {
     "name": "stdout",
     "output_type": "stream",
     "text": [
      "757\n"
     ]
    }
   ],
   "source": [
    "def calc_num_total_learnable_params(weights,biases):\n",
    "    \n",
    "    ###\n",
    "    ### YOUR CODE HERE\n",
    "    ###\n",
    "    \n",
    "    # total parameters is all connections between layers multiplied\n",
    "    # plus all biases for each layer\n",
    "    total_params = 0\n",
    "    for w,b in zip(weights.values(),biases.values()):\n",
    "        shape1 = get_dims_as_tuple(w)\n",
    "        shape2 = get_dims_as_tuple(b)\n",
    "        total_params += (shape1[0]*shape1[1] + shape2[0])\n",
    "    \n",
    "    return total_params\n",
    "    \n",
    "print(calc_num_total_learnable_params(weights, biases))"
   ]
  },
  {
   "cell_type": "code",
   "execution_count": 244,
   "metadata": {
    "collapsed": true,
    "deletable": false,
    "editable": false,
    "nbgrader": {
     "grade": true,
     "grade_id": "learnable_ht",
     "locked": true,
     "points": "10",
     "schema_version": 1,
     "solution": false
    }
   },
   "outputs": [],
   "source": [
    "## Hidden Tests Here\n",
    "###\n",
    "### AUTOGRADER TEST - DO NOT REMOVE\n",
    "###\n"
   ]
  },
  {
   "cell_type": "markdown",
   "metadata": {
    "deletable": false,
    "editable": false,
    "nbgrader": {
     "grade": false,
     "grade_id": "cell-40285d4b5a7d0481",
     "locked": true,
     "schema_version": 1,
     "solution": false
    }
   },
   "source": [
    "### Exercise: Create FeedForward Network Model\n",
    "\n",
    "This function needs to be filled up with code to construct the remaining two layers of the neural network. You have to add one more hidden layers and also the output layer.\n",
    "\n",
    "You should use the sigmoid activation function. Tensorflow's `tf.nn.sigmoid()` function should be helpful. \n",
    "\n",
    "We have partially implemented this function. Complete the rest of it. Remember to not apply the sigmoid activation at the last layer as we will be using `tf.nn.sigmoid_cross_entropy_with_logits()` later which does that.\n"
   ]
  },
  {
   "cell_type": "code",
   "execution_count": 245,
   "metadata": {
    "collapsed": true,
    "nbgrader": {
     "grade": false,
     "grade_id": "cell-0fd6390a18e16110",
     "locked": false,
     "schema_version": 1,
     "solution": true
    }
   },
   "outputs": [],
   "source": [
    "def create_feedforward_nn_model(x, weights, biases):\n",
    "    # Hidden layer with SIGMOID activation\n",
    "    layer_1 = tf.add(tf.matmul(x, weights['h1']), biases['b1'])\n",
    "    layer_1 = tf.nn.sigmoid(layer_1)\n",
    "    \n",
    "    ###\n",
    "    ### YOUR CODE HERE\n",
    "    ###\n",
    "    \n",
    "    # dot product of output from prev layer with new weights, plus biases\n",
    "    layer_2 = tf.add(tf.matmul(layer_1, weights['h2']), biases['b2'])\n",
    "    # apply activation function to logits\n",
    "    layer_2 = tf.nn.sigmoid(layer_2)\n",
    "    \n",
    "    # only output raw logits - activation applied in next function\n",
    "    out_layer = tf.add(tf.matmul(layer_2, weights['out']), biases['out'])\n",
    "    \n",
    "    return out_layer\n",
    "\n",
    "# this outputs a vector of logits\n",
    "# there will be 8 logits as there are 8 neurons connected to the output layer\n",
    "# when this vector is put through the activation function, probabilities are assigned to each label\\\n",
    "# these probabilities sum to 1\n",
    "# the label with the highest probability is output as the prediction (in the following function)"
   ]
  },
  {
   "cell_type": "markdown",
   "metadata": {
    "deletable": false,
    "editable": false,
    "nbgrader": {
     "grade": false,
     "grade_id": "cell-6fcb5f53e1dbbae9",
     "locked": true,
     "schema_version": 1,
     "solution": false
    }
   },
   "source": [
    "### Exercise: Stitch the Neural Network Model\n",
    "\n",
    "Using the appropriate Tensorflow libraries, implement each of the following operations:\n",
    "- loss as the CrossEntropyLoss\n",
    "- train_op as the AdamOptimizer that minimizes the loss\n",
    "\n",
    "As inputs to these operators, you can use:\n",
    "- `pred_raw` which is the output of your neural network's last layer\n",
    "- `pred` is the predicted label, which is the output of rounding `pred_raw`. \n",
    "\n",
    "You might want to look at the Tensorflow Section notebooks as well as the TensorFlow API.\n",
    "\n",
    "Two of the returned values have been implemented as a hint for you.\n",
    "\n",
    "Functions that could be useful here: \n",
    "\n",
    "```python\n",
    "tf.nn.sigmoid_cross_entropy_with_logits()\n",
    "tf.reduce_mean()\n",
    "tf.round()\n",
    "tf.sigmoid()\n",
    "tf.train.AdamOptimizer().minimize()\n",
    "```"
   ]
  },
  {
   "cell_type": "code",
   "execution_count": 246,
   "metadata": {
    "collapsed": true,
    "nbgrader": {
     "grade": false,
     "grade_id": "cell-2a697316f54fa391",
     "locked": false,
     "schema_version": 1,
     "solution": true
    }
   },
   "outputs": [],
   "source": [
    "# Construct model\n",
    "def stitch_network(x, y, weights, biases, learning_rate):\n",
    "    \n",
    "    pred_raw = create_feedforward_nn_model(x, weights, biases)\n",
    "    pred = tf.round(tf.nn.sigmoid(pred_raw))\n",
    "    \n",
    "    ###\n",
    "    ### YOUR CODE HERE\n",
    "    ###\n",
    "    \n",
    "    # above is the prediction part of the network\n",
    "    # below is the training/optimisation part\n",
    "    \n",
    "    cost = tf.reduce_mean(tf.nn.sigmoid_cross_entropy_with_logits(labels=y, logits=pred_raw))\n",
    "    optimiser = tf.train.AdamOptimizer(learning_rate=learning_rate)\n",
    "    train_op = optimiser.minimize(cost)\n",
    "    \n",
    "    return pred_raw, pred, cost, train_op\n",
    "\n",
    "pred_raw, pred, cost, train_op = stitch_network(x, y, weights, biases, learning_rate)"
   ]
  },
  {
   "cell_type": "code",
   "execution_count": 247,
   "metadata": {
    "collapsed": true,
    "deletable": false,
    "editable": false,
    "nbgrader": {
     "grade": true,
     "grade_id": "shape2_v",
     "locked": true,
     "points": "5",
     "schema_version": 1,
     "solution": false
    }
   },
   "outputs": [],
   "source": [
    "assert cost.__class__ == tf.Tensor\n",
    "assert cost.get_shape() == (), \"Make sure you have used reduce_mean\""
   ]
  },
  {
   "cell_type": "code",
   "execution_count": 248,
   "metadata": {
    "collapsed": true,
    "deletable": false,
    "editable": false,
    "nbgrader": {
     "grade": false,
     "grade_id": "cell-e9b4c53caccf6e1d",
     "locked": true,
     "schema_version": 1,
     "solution": false
    }
   },
   "outputs": [],
   "source": [
    "# Initializing the variables - IMPORTANT\n",
    "init = tf.global_variables_initializer()"
   ]
  },
  {
   "cell_type": "markdown",
   "metadata": {
    "deletable": false,
    "editable": false,
    "nbgrader": {
     "grade": false,
     "grade_id": "cell-b683e70b1b3eafa0",
     "locked": true,
     "schema_version": 1,
     "solution": false
    }
   },
   "source": [
    "## Training and Testing the Neural Network"
   ]
  },
  {
   "cell_type": "markdown",
   "metadata": {
    "deletable": false,
    "editable": false,
    "nbgrader": {
     "grade": false,
     "grade_id": "cell-b683e70b1b3asdaeafa0",
     "locked": true,
     "schema_version": 1,
     "solution": false
    }
   },
   "source": [
    "### Exercise: Writing the Train function\n",
    "\n",
    "This is where you will train your network.\n",
    "\n",
    "Your goal is to complete the following function named `train_nn()`. \n",
    "\n",
    "To help you structure your implementation, we have provided some starter code. \n",
    "\n",
    "We have also detailed each of the steps you need to pay attention to inside the main training loop.\n",
    "\n",
    "Remember you have access to all the parameters we initialized early on in the notebook, as well as to the parameters defined in the config file. \n",
    "\n",
    "`train_nn()` should return 5 python lists\n",
    "1. training_costs\n",
    "2. validation_costs\n",
    "3. training_accs\n",
    "4. validation_accs\n",
    "5. test_predictions "
   ]
  },
  {
   "cell_type": "code",
   "execution_count": 249,
   "metadata": {
    "collapsed": true,
    "nbgrader": {
     "grade": false,
     "grade_id": "cell-cd22bec67d6afd31",
     "locked": false,
     "schema_version": 1,
     "solution": true
    }
   },
   "outputs": [],
   "source": [
    "def train_nn():\n",
    "    with tf.Session() as sess:\n",
    "\n",
    "        sess.run(init)\n",
    "        \n",
    "        ## this is needed to print debug statements during training.\n",
    "        coord = tf.train.Coordinator()\n",
    "        threads = tf.train.start_queue_runners(coord=coord)\n",
    "        \n",
    "        ###\n",
    "        ### YOUR CODE HERE\n",
    "        ###\n",
    "        \n",
    "        # remember: there are 10,000 training examples. 80% for training, 20% for validation\n",
    "        x_train, x_valid = features[:num_train_examples], features[num_train_examples:]\n",
    "        y_train, y_valid = labels[:num_train_examples], labels[num_train_examples:]\n",
    "\n",
    "        training_costs = []\n",
    "        training_accs = []\n",
    "\n",
    "        validation_costs = []\n",
    "        validation_accs = []\n",
    "\n",
    "        for epoch in range(training_epochs):\n",
    "    \n",
    "            # there are 5 batches to be run within each epoch\n",
    "            # train within each batch and aggregate across epoch\n",
    "            # append the costs/accs for EACH EPOCH\n",
    "            # also, account for the last batch having a fraction of a full batch\n",
    "            \n",
    "            # training X-batches per epoch\n",
    "            epoch_cost, epoch_acc = 0, 0\n",
    "            for i in range(num_batches):\n",
    "                begin_index, end_index = int(i*batch_size), int((i+1)*batch_size)\n",
    "                x_batch = x_train[begin_index:end_index,:]\n",
    "                y_batch = y_train[begin_index:end_index,:]\n",
    "                feed_dict = {x:x_batch, y:y_batch}\n",
    "                pred_batch, cost_batch, _ = sess.run([pred, cost, train_op], feed_dict = feed_dict)\n",
    "                epoch_cost += cost_batch\n",
    "                epoch_acc += np.sum(pred_batch == y_batch)\n",
    "            \n",
    "            # aggregate across all batches\n",
    "            avg_epoch_cost = epoch_cost/num_batches\n",
    "            this_epoch_accuracy = epoch_acc/num_train_examples\n",
    "            training_costs.append(avg_epoch_cost)\n",
    "            training_accs.append(this_epoch_accuracy)\n",
    "                \n",
    "            # validation\n",
    "            y_valid_pred,val_cost = sess.run([pred,cost], feed_dict={x:x_valid, y:y_valid})\n",
    "            batch_valid_cost = val_cost.astype(np.float64) # need to make this float64 to pass test\n",
    "            valid_accuracy = np.sum(y_valid == y_valid_pred)/x_valid.shape[0]\n",
    "            validation_costs.append(batch_valid_cost)\n",
    "            validation_accs.append(valid_accuracy)\n",
    "            \n",
    "            # display the training/validation data per epoch\n",
    "            # this will be commented out when submitting to improve runtime\n",
    "            if epoch%display_step==0:\n",
    "                print(\"Epoch %d | Tr cost: %f | Tr accuracy %f | Va cost: %f | Va accuracy: %f\"\\\n",
    "                      %(epoch + 1, avg_epoch_cost, this_epoch_accuracy, batch_valid_cost, valid_accuracy))\n",
    "        \n",
    "        # predict using the trained tf graph\n",
    "        # must return list of float64 objects as test assertion statement requires this\n",
    "        test_pred = sess.run(pred, feed_dict={x: test_features}).astype(np.float64)\n",
    "        test_predictions = [np.float64(item) for item in test_pred]\n",
    "        \n",
    "    ## close TF session if open\n",
    "    if 'session' in locals() and sess is not None:\n",
    "        print('Close interactive session')\n",
    "        sess.close()\n",
    "        \n",
    "    return training_costs, validation_costs, training_accs, validation_accs, test_predictions"
   ]
  },
  {
   "cell_type": "code",
   "execution_count": 250,
   "metadata": {
    "deletable": false,
    "editable": false,
    "nbgrader": {
     "grade": false,
     "grade_id": "cell-099ff13f7570ad44",
     "locked": true,
     "schema_version": 1,
     "solution": false
    }
   },
   "outputs": [
    {
     "name": "stdout",
     "output_type": "stream",
     "text": [
      "WARNING:tensorflow:`tf.train.start_queue_runners()` was called when no queue runners were defined. You can safely remove the call to this deprecated function.\n",
      "Epoch 1 | Tr cost: 0.816442 | Tr accuracy 0.519500 | Va cost: 0.784289 | Va accuracy: 0.502500\n",
      "Epoch 2 | Tr cost: 0.715233 | Tr accuracy 0.548750 | Va cost: 0.682251 | Va accuracy: 0.584000\n",
      "Epoch 3 | Tr cost: 0.685025 | Tr accuracy 0.580625 | Va cost: 0.678734 | Va accuracy: 0.589500\n",
      "Epoch 4 | Tr cost: 0.657661 | Tr accuracy 0.609625 | Va cost: 0.659303 | Va accuracy: 0.594000\n",
      "Epoch 5 | Tr cost: 0.654861 | Tr accuracy 0.607750 | Va cost: 0.649966 | Va accuracy: 0.609500\n",
      "Epoch 6 | Tr cost: 0.641581 | Tr accuracy 0.638250 | Va cost: 0.652446 | Va accuracy: 0.618000\n",
      "Epoch 7 | Tr cost: 0.637698 | Tr accuracy 0.637000 | Va cost: 0.643509 | Va accuracy: 0.620000\n",
      "Epoch 8 | Tr cost: 0.631050 | Tr accuracy 0.642250 | Va cost: 0.641274 | Va accuracy: 0.621500\n",
      "Epoch 9 | Tr cost: 0.626695 | Tr accuracy 0.649250 | Va cost: 0.639823 | Va accuracy: 0.621500\n",
      "Epoch 10 | Tr cost: 0.623066 | Tr accuracy 0.649250 | Va cost: 0.637370 | Va accuracy: 0.623000\n",
      "Epoch 11 | Tr cost: 0.619166 | Tr accuracy 0.657250 | Va cost: 0.635429 | Va accuracy: 0.625000\n",
      "Epoch 12 | Tr cost: 0.616167 | Tr accuracy 0.661500 | Va cost: 0.634884 | Va accuracy: 0.626500\n",
      "Epoch 13 | Tr cost: 0.612962 | Tr accuracy 0.664250 | Va cost: 0.633143 | Va accuracy: 0.629000\n",
      "Epoch 14 | Tr cost: 0.609614 | Tr accuracy 0.669625 | Va cost: 0.631709 | Va accuracy: 0.633500\n",
      "Epoch 15 | Tr cost: 0.606495 | Tr accuracy 0.671625 | Va cost: 0.631134 | Va accuracy: 0.636500\n",
      "Epoch 16 | Tr cost: 0.603063 | Tr accuracy 0.676625 | Va cost: 0.629921 | Va accuracy: 0.635000\n",
      "Epoch 17 | Tr cost: 0.599721 | Tr accuracy 0.681000 | Va cost: 0.629117 | Va accuracy: 0.635000\n",
      "Epoch 18 | Tr cost: 0.596367 | Tr accuracy 0.683875 | Va cost: 0.628296 | Va accuracy: 0.637500\n",
      "Epoch 19 | Tr cost: 0.592960 | Tr accuracy 0.687750 | Va cost: 0.627753 | Va accuracy: 0.639000\n",
      "Epoch 20 | Tr cost: 0.589713 | Tr accuracy 0.690500 | Va cost: 0.627806 | Va accuracy: 0.636500\n",
      "Epoch 21 | Tr cost: 0.586446 | Tr accuracy 0.694125 | Va cost: 0.627987 | Va accuracy: 0.631500\n",
      "Epoch 22 | Tr cost: 0.583368 | Tr accuracy 0.697750 | Va cost: 0.628645 | Va accuracy: 0.631000\n",
      "Epoch 23 | Tr cost: 0.580362 | Tr accuracy 0.700250 | Va cost: 0.629444 | Va accuracy: 0.631000\n",
      "Epoch 24 | Tr cost: 0.577604 | Tr accuracy 0.703250 | Va cost: 0.630640 | Va accuracy: 0.634000\n",
      "Epoch 25 | Tr cost: 0.574990 | Tr accuracy 0.706750 | Va cost: 0.632011 | Va accuracy: 0.632500\n",
      "Epoch 26 | Tr cost: 0.572530 | Tr accuracy 0.709375 | Va cost: 0.633614 | Va accuracy: 0.630000\n",
      "Epoch 27 | Tr cost: 0.570185 | Tr accuracy 0.710000 | Va cost: 0.635181 | Va accuracy: 0.632000\n",
      "Epoch 28 | Tr cost: 0.567968 | Tr accuracy 0.709875 | Va cost: 0.636733 | Va accuracy: 0.631000\n",
      "Epoch 29 | Tr cost: 0.565822 | Tr accuracy 0.712750 | Va cost: 0.638207 | Va accuracy: 0.633000\n",
      "Epoch 30 | Tr cost: 0.563753 | Tr accuracy 0.713875 | Va cost: 0.639664 | Va accuracy: 0.637500\n",
      "Epoch 31 | Tr cost: 0.561797 | Tr accuracy 0.713250 | Va cost: 0.641016 | Va accuracy: 0.635000\n",
      "Epoch 32 | Tr cost: 0.560001 | Tr accuracy 0.714000 | Va cost: 0.642275 | Va accuracy: 0.631000\n",
      "Epoch 33 | Tr cost: 0.558263 | Tr accuracy 0.714625 | Va cost: 0.643416 | Va accuracy: 0.627000\n",
      "Epoch 34 | Tr cost: 0.556592 | Tr accuracy 0.715125 | Va cost: 0.644520 | Va accuracy: 0.627500\n",
      "Epoch 35 | Tr cost: 0.554993 | Tr accuracy 0.716250 | Va cost: 0.645625 | Va accuracy: 0.626000\n",
      "Epoch 36 | Tr cost: 0.553435 | Tr accuracy 0.718375 | Va cost: 0.646637 | Va accuracy: 0.625500\n",
      "Epoch 37 | Tr cost: 0.551890 | Tr accuracy 0.720000 | Va cost: 0.647602 | Va accuracy: 0.622000\n",
      "Epoch 38 | Tr cost: 0.550351 | Tr accuracy 0.718625 | Va cost: 0.648625 | Va accuracy: 0.625000\n",
      "Epoch 39 | Tr cost: 0.548843 | Tr accuracy 0.721750 | Va cost: 0.649732 | Va accuracy: 0.625500\n",
      "Epoch 40 | Tr cost: 0.547370 | Tr accuracy 0.723625 | Va cost: 0.650889 | Va accuracy: 0.623500\n",
      "Epoch 41 | Tr cost: 0.545915 | Tr accuracy 0.724500 | Va cost: 0.652055 | Va accuracy: 0.623000\n",
      "Epoch 42 | Tr cost: 0.544492 | Tr accuracy 0.725000 | Va cost: 0.653191 | Va accuracy: 0.622500\n",
      "Epoch 43 | Tr cost: 0.543127 | Tr accuracy 0.725125 | Va cost: 0.654284 | Va accuracy: 0.624000\n",
      "Epoch 44 | Tr cost: 0.541837 | Tr accuracy 0.724750 | Va cost: 0.655358 | Va accuracy: 0.625500\n",
      "Epoch 45 | Tr cost: 0.540623 | Tr accuracy 0.725875 | Va cost: 0.656469 | Va accuracy: 0.625000\n",
      "Epoch 46 | Tr cost: 0.539464 | Tr accuracy 0.726875 | Va cost: 0.657628 | Va accuracy: 0.625000\n",
      "Epoch 47 | Tr cost: 0.538330 | Tr accuracy 0.728000 | Va cost: 0.658809 | Va accuracy: 0.627000\n",
      "Epoch 48 | Tr cost: 0.537202 | Tr accuracy 0.728000 | Va cost: 0.659963 | Va accuracy: 0.626500\n",
      "Epoch 49 | Tr cost: 0.536078 | Tr accuracy 0.728375 | Va cost: 0.661089 | Va accuracy: 0.627000\n",
      "Epoch 50 | Tr cost: 0.534979 | Tr accuracy 0.729250 | Va cost: 0.662259 | Va accuracy: 0.625500\n",
      "Epoch 51 | Tr cost: 0.533918 | Tr accuracy 0.729750 | Va cost: 0.663509 | Va accuracy: 0.623000\n",
      "Epoch 52 | Tr cost: 0.532865 | Tr accuracy 0.731000 | Va cost: 0.664832 | Va accuracy: 0.624000\n",
      "Epoch 53 | Tr cost: 0.531803 | Tr accuracy 0.731375 | Va cost: 0.666193 | Va accuracy: 0.623000\n",
      "Epoch 54 | Tr cost: 0.530721 | Tr accuracy 0.733250 | Va cost: 0.667545 | Va accuracy: 0.627000\n",
      "Epoch 55 | Tr cost: 0.529614 | Tr accuracy 0.734500 | Va cost: 0.668828 | Va accuracy: 0.624500\n",
      "Epoch 56 | Tr cost: 0.528506 | Tr accuracy 0.735000 | Va cost: 0.670010 | Va accuracy: 0.622500\n",
      "Epoch 57 | Tr cost: 0.527437 | Tr accuracy 0.735250 | Va cost: 0.671118 | Va accuracy: 0.622500\n",
      "Epoch 58 | Tr cost: 0.526422 | Tr accuracy 0.737125 | Va cost: 0.672250 | Va accuracy: 0.620500\n",
      "Epoch 59 | Tr cost: 0.525465 | Tr accuracy 0.737375 | Va cost: 0.673412 | Va accuracy: 0.620000\n",
      "Epoch 60 | Tr cost: 0.524549 | Tr accuracy 0.737750 | Va cost: 0.674506 | Va accuracy: 0.619000\n",
      "Epoch 61 | Tr cost: 0.523657 | Tr accuracy 0.737125 | Va cost: 0.675518 | Va accuracy: 0.620000\n",
      "Epoch 62 | Tr cost: 0.522782 | Tr accuracy 0.738500 | Va cost: 0.676481 | Va accuracy: 0.620500\n",
      "Epoch 63 | Tr cost: 0.521921 | Tr accuracy 0.739875 | Va cost: 0.677415 | Va accuracy: 0.620000\n",
      "Epoch 64 | Tr cost: 0.521093 | Tr accuracy 0.739750 | Va cost: 0.678295 | Va accuracy: 0.618000\n",
      "Epoch 65 | Tr cost: 0.520303 | Tr accuracy 0.739875 | Va cost: 0.679161 | Va accuracy: 0.617000\n",
      "Epoch 66 | Tr cost: 0.519542 | Tr accuracy 0.740250 | Va cost: 0.680092 | Va accuracy: 0.615500\n",
      "Epoch 67 | Tr cost: 0.518799 | Tr accuracy 0.740250 | Va cost: 0.681078 | Va accuracy: 0.613000\n",
      "Epoch 68 | Tr cost: 0.518069 | Tr accuracy 0.740875 | Va cost: 0.682013 | Va accuracy: 0.613500\n",
      "Epoch 69 | Tr cost: 0.517347 | Tr accuracy 0.742000 | Va cost: 0.682845 | Va accuracy: 0.614000\n",
      "Epoch 70 | Tr cost: 0.516631 | Tr accuracy 0.742750 | Va cost: 0.683609 | Va accuracy: 0.614000\n",
      "Epoch 71 | Tr cost: 0.515915 | Tr accuracy 0.742375 | Va cost: 0.684297 | Va accuracy: 0.613000\n",
      "Epoch 72 | Tr cost: 0.515190 | Tr accuracy 0.743000 | Va cost: 0.684907 | Va accuracy: 0.614500\n",
      "Epoch 73 | Tr cost: 0.514464 | Tr accuracy 0.743250 | Va cost: 0.685519 | Va accuracy: 0.617500\n",
      "Epoch 74 | Tr cost: 0.513746 | Tr accuracy 0.743500 | Va cost: 0.686217 | Va accuracy: 0.620500\n",
      "Epoch 75 | Tr cost: 0.513035 | Tr accuracy 0.744750 | Va cost: 0.687012 | Va accuracy: 0.622000\n",
      "Epoch 76 | Tr cost: 0.512331 | Tr accuracy 0.745875 | Va cost: 0.687849 | Va accuracy: 0.621500\n",
      "Epoch 77 | Tr cost: 0.511648 | Tr accuracy 0.746250 | Va cost: 0.688717 | Va accuracy: 0.622500\n",
      "Epoch 78 | Tr cost: 0.510986 | Tr accuracy 0.747000 | Va cost: 0.689670 | Va accuracy: 0.624000\n",
      "Epoch 79 | Tr cost: 0.510343 | Tr accuracy 0.746500 | Va cost: 0.690677 | Va accuracy: 0.624500\n",
      "Epoch 80 | Tr cost: 0.509715 | Tr accuracy 0.746500 | Va cost: 0.691723 | Va accuracy: 0.624000\n",
      "Epoch 81 | Tr cost: 0.509097 | Tr accuracy 0.746750 | Va cost: 0.692793 | Va accuracy: 0.624000\n",
      "Epoch 82 | Tr cost: 0.508487 | Tr accuracy 0.746750 | Va cost: 0.693883 | Va accuracy: 0.624000\n",
      "Epoch 83 | Tr cost: 0.507881 | Tr accuracy 0.746625 | Va cost: 0.694992 | Va accuracy: 0.624500\n",
      "Epoch 84 | Tr cost: 0.507280 | Tr accuracy 0.747000 | Va cost: 0.696129 | Va accuracy: 0.623000\n",
      "Epoch 85 | Tr cost: 0.506684 | Tr accuracy 0.747500 | Va cost: 0.697314 | Va accuracy: 0.624000\n",
      "Epoch 86 | Tr cost: 0.506091 | Tr accuracy 0.747750 | Va cost: 0.698561 | Va accuracy: 0.622000\n",
      "Epoch 87 | Tr cost: 0.505500 | Tr accuracy 0.747625 | Va cost: 0.699875 | Va accuracy: 0.621000\n",
      "Epoch 88 | Tr cost: 0.504910 | Tr accuracy 0.748750 | Va cost: 0.701231 | Va accuracy: 0.620000\n",
      "Epoch 89 | Tr cost: 0.504324 | Tr accuracy 0.749000 | Va cost: 0.702598 | Va accuracy: 0.618500\n"
     ]
    },
    {
     "name": "stdout",
     "output_type": "stream",
     "text": [
      "Epoch 90 | Tr cost: 0.503747 | Tr accuracy 0.749250 | Va cost: 0.703968 | Va accuracy: 0.616500\n",
      "Epoch 91 | Tr cost: 0.503177 | Tr accuracy 0.749125 | Va cost: 0.705353 | Va accuracy: 0.618000\n",
      "Epoch 92 | Tr cost: 0.502612 | Tr accuracy 0.750250 | Va cost: 0.706739 | Va accuracy: 0.616500\n",
      "Epoch 93 | Tr cost: 0.502049 | Tr accuracy 0.750375 | Va cost: 0.708089 | Va accuracy: 0.616500\n",
      "Epoch 94 | Tr cost: 0.501482 | Tr accuracy 0.750250 | Va cost: 0.709387 | Va accuracy: 0.615500\n",
      "Epoch 95 | Tr cost: 0.500918 | Tr accuracy 0.751000 | Va cost: 0.710640 | Va accuracy: 0.615500\n",
      "Epoch 96 | Tr cost: 0.500373 | Tr accuracy 0.750875 | Va cost: 0.711844 | Va accuracy: 0.616000\n",
      "Epoch 97 | Tr cost: 0.499836 | Tr accuracy 0.751875 | Va cost: 0.713012 | Va accuracy: 0.614500\n",
      "Epoch 98 | Tr cost: 0.499312 | Tr accuracy 0.752375 | Va cost: 0.714158 | Va accuracy: 0.614500\n",
      "Epoch 99 | Tr cost: 0.498804 | Tr accuracy 0.751375 | Va cost: 0.715256 | Va accuracy: 0.614500\n",
      "Epoch 100 | Tr cost: 0.498307 | Tr accuracy 0.752000 | Va cost: 0.716288 | Va accuracy: 0.613000\n",
      "Epoch 101 | Tr cost: 0.497818 | Tr accuracy 0.753875 | Va cost: 0.717271 | Va accuracy: 0.613000\n",
      "Epoch 102 | Tr cost: 0.497337 | Tr accuracy 0.754250 | Va cost: 0.718212 | Va accuracy: 0.614500\n",
      "Epoch 103 | Tr cost: 0.496862 | Tr accuracy 0.754000 | Va cost: 0.719111 | Va accuracy: 0.613500\n",
      "Epoch 104 | Tr cost: 0.496385 | Tr accuracy 0.754750 | Va cost: 0.719981 | Va accuracy: 0.613500\n",
      "Epoch 105 | Tr cost: 0.495873 | Tr accuracy 0.754500 | Va cost: 0.720911 | Va accuracy: 0.614000\n",
      "Epoch 106 | Tr cost: 0.495366 | Tr accuracy 0.754750 | Va cost: 0.721890 | Va accuracy: 0.615000\n",
      "Epoch 107 | Tr cost: 0.494895 | Tr accuracy 0.755625 | Va cost: 0.722735 | Va accuracy: 0.616000\n",
      "Epoch 108 | Tr cost: 0.494394 | Tr accuracy 0.755625 | Va cost: 0.723508 | Va accuracy: 0.618000\n",
      "Epoch 109 | Tr cost: 0.493904 | Tr accuracy 0.756500 | Va cost: 0.724330 | Va accuracy: 0.616000\n",
      "Epoch 110 | Tr cost: 0.493425 | Tr accuracy 0.757750 | Va cost: 0.725269 | Va accuracy: 0.614000\n",
      "Epoch 111 | Tr cost: 0.492933 | Tr accuracy 0.756750 | Va cost: 0.726305 | Va accuracy: 0.613000\n",
      "Epoch 112 | Tr cost: 0.492435 | Tr accuracy 0.757375 | Va cost: 0.727388 | Va accuracy: 0.612000\n",
      "Epoch 113 | Tr cost: 0.491937 | Tr accuracy 0.757750 | Va cost: 0.728469 | Va accuracy: 0.613500\n",
      "Epoch 114 | Tr cost: 0.491442 | Tr accuracy 0.757500 | Va cost: 0.729529 | Va accuracy: 0.613000\n",
      "Epoch 115 | Tr cost: 0.490953 | Tr accuracy 0.757375 | Va cost: 0.730577 | Va accuracy: 0.614500\n",
      "Epoch 116 | Tr cost: 0.490467 | Tr accuracy 0.757750 | Va cost: 0.731633 | Va accuracy: 0.616500\n",
      "Epoch 117 | Tr cost: 0.489988 | Tr accuracy 0.759000 | Va cost: 0.732723 | Va accuracy: 0.617500\n",
      "Epoch 118 | Tr cost: 0.489509 | Tr accuracy 0.759625 | Va cost: 0.733835 | Va accuracy: 0.616500\n",
      "Epoch 119 | Tr cost: 0.489033 | Tr accuracy 0.760375 | Va cost: 0.734930 | Va accuracy: 0.616000\n",
      "Epoch 120 | Tr cost: 0.488571 | Tr accuracy 0.759750 | Va cost: 0.736039 | Va accuracy: 0.615500\n",
      "Epoch 121 | Tr cost: 0.488120 | Tr accuracy 0.760125 | Va cost: 0.737173 | Va accuracy: 0.615500\n",
      "Epoch 122 | Tr cost: 0.487671 | Tr accuracy 0.759125 | Va cost: 0.738309 | Va accuracy: 0.615500\n",
      "Epoch 123 | Tr cost: 0.487224 | Tr accuracy 0.759250 | Va cost: 0.739447 | Va accuracy: 0.614500\n",
      "Epoch 124 | Tr cost: 0.486776 | Tr accuracy 0.760375 | Va cost: 0.740576 | Va accuracy: 0.614000\n",
      "Epoch 125 | Tr cost: 0.486330 | Tr accuracy 0.761500 | Va cost: 0.741678 | Va accuracy: 0.612500\n",
      "Epoch 126 | Tr cost: 0.485888 | Tr accuracy 0.761375 | Va cost: 0.742768 | Va accuracy: 0.610000\n",
      "Epoch 127 | Tr cost: 0.485460 | Tr accuracy 0.760750 | Va cost: 0.743762 | Va accuracy: 0.611000\n",
      "Epoch 128 | Tr cost: 0.485036 | Tr accuracy 0.760875 | Va cost: 0.744707 | Va accuracy: 0.610000\n",
      "Epoch 129 | Tr cost: 0.484615 | Tr accuracy 0.761625 | Va cost: 0.745683 | Va accuracy: 0.608000\n",
      "Epoch 130 | Tr cost: 0.484202 | Tr accuracy 0.761375 | Va cost: 0.746605 | Va accuracy: 0.607500\n",
      "Epoch 131 | Tr cost: 0.483787 | Tr accuracy 0.761750 | Va cost: 0.747486 | Va accuracy: 0.605500\n",
      "Epoch 132 | Tr cost: 0.483374 | Tr accuracy 0.762375 | Va cost: 0.748385 | Va accuracy: 0.607000\n",
      "Epoch 133 | Tr cost: 0.482966 | Tr accuracy 0.762250 | Va cost: 0.749314 | Va accuracy: 0.605000\n",
      "Epoch 134 | Tr cost: 0.482559 | Tr accuracy 0.762375 | Va cost: 0.750224 | Va accuracy: 0.605500\n",
      "Epoch 135 | Tr cost: 0.482168 | Tr accuracy 0.763125 | Va cost: 0.751094 | Va accuracy: 0.605000\n",
      "Epoch 136 | Tr cost: 0.481786 | Tr accuracy 0.763625 | Va cost: 0.751935 | Va accuracy: 0.605500\n",
      "Epoch 137 | Tr cost: 0.481402 | Tr accuracy 0.763875 | Va cost: 0.752738 | Va accuracy: 0.605000\n",
      "Epoch 138 | Tr cost: 0.481015 | Tr accuracy 0.763875 | Va cost: 0.753501 | Va accuracy: 0.605500\n",
      "Epoch 139 | Tr cost: 0.480632 | Tr accuracy 0.764500 | Va cost: 0.754254 | Va accuracy: 0.605500\n",
      "Epoch 140 | Tr cost: 0.480253 | Tr accuracy 0.764250 | Va cost: 0.755025 | Va accuracy: 0.604500\n",
      "Epoch 141 | Tr cost: 0.479881 | Tr accuracy 0.764500 | Va cost: 0.755809 | Va accuracy: 0.606000\n",
      "Epoch 142 | Tr cost: 0.479514 | Tr accuracy 0.765375 | Va cost: 0.756596 | Va accuracy: 0.606500\n",
      "Epoch 143 | Tr cost: 0.479152 | Tr accuracy 0.765250 | Va cost: 0.757395 | Va accuracy: 0.607000\n",
      "Epoch 144 | Tr cost: 0.478795 | Tr accuracy 0.765750 | Va cost: 0.758209 | Va accuracy: 0.606500\n",
      "Epoch 145 | Tr cost: 0.478445 | Tr accuracy 0.765500 | Va cost: 0.759034 | Va accuracy: 0.606000\n",
      "Epoch 146 | Tr cost: 0.478100 | Tr accuracy 0.765625 | Va cost: 0.759863 | Va accuracy: 0.607000\n",
      "Epoch 147 | Tr cost: 0.477759 | Tr accuracy 0.766000 | Va cost: 0.760697 | Va accuracy: 0.607000\n",
      "Epoch 148 | Tr cost: 0.477422 | Tr accuracy 0.766500 | Va cost: 0.761531 | Va accuracy: 0.606500\n",
      "Epoch 149 | Tr cost: 0.477090 | Tr accuracy 0.766125 | Va cost: 0.762360 | Va accuracy: 0.608500\n",
      "Epoch 150 | Tr cost: 0.476759 | Tr accuracy 0.766250 | Va cost: 0.763182 | Va accuracy: 0.608000\n",
      "Epoch 151 | Tr cost: 0.476430 | Tr accuracy 0.766125 | Va cost: 0.763994 | Va accuracy: 0.607000\n",
      "Epoch 152 | Tr cost: 0.476102 | Tr accuracy 0.767000 | Va cost: 0.764799 | Va accuracy: 0.608000\n",
      "Epoch 153 | Tr cost: 0.475774 | Tr accuracy 0.767250 | Va cost: 0.765598 | Va accuracy: 0.606500\n",
      "Epoch 154 | Tr cost: 0.475445 | Tr accuracy 0.768125 | Va cost: 0.766395 | Va accuracy: 0.607000\n",
      "Epoch 155 | Tr cost: 0.475117 | Tr accuracy 0.768250 | Va cost: 0.767189 | Va accuracy: 0.608000\n",
      "Epoch 156 | Tr cost: 0.474788 | Tr accuracy 0.768375 | Va cost: 0.767980 | Va accuracy: 0.607000\n",
      "Epoch 157 | Tr cost: 0.474461 | Tr accuracy 0.768375 | Va cost: 0.768762 | Va accuracy: 0.607500\n",
      "Epoch 158 | Tr cost: 0.474135 | Tr accuracy 0.768750 | Va cost: 0.769533 | Va accuracy: 0.607000\n",
      "Epoch 159 | Tr cost: 0.473809 | Tr accuracy 0.769000 | Va cost: 0.770299 | Va accuracy: 0.606500\n",
      "Epoch 160 | Tr cost: 0.473483 | Tr accuracy 0.769375 | Va cost: 0.771069 | Va accuracy: 0.608000\n",
      "Epoch 161 | Tr cost: 0.473160 | Tr accuracy 0.769875 | Va cost: 0.771813 | Va accuracy: 0.608000\n",
      "Epoch 162 | Tr cost: 0.472839 | Tr accuracy 0.769875 | Va cost: 0.772493 | Va accuracy: 0.608000\n",
      "Epoch 163 | Tr cost: 0.472519 | Tr accuracy 0.769625 | Va cost: 0.773131 | Va accuracy: 0.608000\n",
      "Epoch 164 | Tr cost: 0.472202 | Tr accuracy 0.770125 | Va cost: 0.773767 | Va accuracy: 0.608500\n",
      "Epoch 165 | Tr cost: 0.471889 | Tr accuracy 0.770625 | Va cost: 0.774402 | Va accuracy: 0.609000\n",
      "Epoch 166 | Tr cost: 0.471580 | Tr accuracy 0.771125 | Va cost: 0.775027 | Va accuracy: 0.608500\n",
      "Epoch 167 | Tr cost: 0.471276 | Tr accuracy 0.771500 | Va cost: 0.775642 | Va accuracy: 0.609500\n",
      "Epoch 168 | Tr cost: 0.470978 | Tr accuracy 0.771750 | Va cost: 0.776254 | Va accuracy: 0.607500\n",
      "Epoch 169 | Tr cost: 0.470682 | Tr accuracy 0.772125 | Va cost: 0.776882 | Va accuracy: 0.607500\n",
      "Epoch 170 | Tr cost: 0.470389 | Tr accuracy 0.772500 | Va cost: 0.777526 | Va accuracy: 0.607500\n",
      "Epoch 171 | Tr cost: 0.470101 | Tr accuracy 0.772375 | Va cost: 0.778174 | Va accuracy: 0.607000\n",
      "Epoch 172 | Tr cost: 0.469816 | Tr accuracy 0.772625 | Va cost: 0.778833 | Va accuracy: 0.608000\n",
      "Epoch 173 | Tr cost: 0.469535 | Tr accuracy 0.772625 | Va cost: 0.779502 | Va accuracy: 0.609000\n",
      "Epoch 174 | Tr cost: 0.469258 | Tr accuracy 0.773625 | Va cost: 0.780177 | Va accuracy: 0.609000\n",
      "Epoch 175 | Tr cost: 0.468984 | Tr accuracy 0.773375 | Va cost: 0.780857 | Va accuracy: 0.609500\n",
      "Epoch 176 | Tr cost: 0.468714 | Tr accuracy 0.773750 | Va cost: 0.781536 | Va accuracy: 0.609000\n",
      "Epoch 177 | Tr cost: 0.468447 | Tr accuracy 0.773625 | Va cost: 0.782212 | Va accuracy: 0.608500\n",
      "Epoch 178 | Tr cost: 0.468184 | Tr accuracy 0.773750 | Va cost: 0.782884 | Va accuracy: 0.607500\n",
      "Epoch 179 | Tr cost: 0.467924 | Tr accuracy 0.774000 | Va cost: 0.783549 | Va accuracy: 0.608500\n",
      "Epoch 180 | Tr cost: 0.467667 | Tr accuracy 0.774375 | Va cost: 0.784205 | Va accuracy: 0.608000\n",
      "Epoch 181 | Tr cost: 0.467413 | Tr accuracy 0.774375 | Va cost: 0.784852 | Va accuracy: 0.608000\n",
      "Epoch 182 | Tr cost: 0.467161 | Tr accuracy 0.773875 | Va cost: 0.785487 | Va accuracy: 0.608000\n",
      "Epoch 183 | Tr cost: 0.466910 | Tr accuracy 0.774000 | Va cost: 0.786111 | Va accuracy: 0.608000\n",
      "Epoch 184 | Tr cost: 0.466661 | Tr accuracy 0.774375 | Va cost: 0.786725 | Va accuracy: 0.607000\n",
      "Epoch 185 | Tr cost: 0.466411 | Tr accuracy 0.774250 | Va cost: 0.787334 | Va accuracy: 0.606500\n",
      "Epoch 186 | Tr cost: 0.466161 | Tr accuracy 0.774750 | Va cost: 0.787943 | Va accuracy: 0.607500\n",
      "Epoch 187 | Tr cost: 0.465911 | Tr accuracy 0.774875 | Va cost: 0.788555 | Va accuracy: 0.607000\n",
      "Epoch 188 | Tr cost: 0.465660 | Tr accuracy 0.774875 | Va cost: 0.789164 | Va accuracy: 0.604500\n",
      "Epoch 189 | Tr cost: 0.465411 | Tr accuracy 0.774625 | Va cost: 0.789765 | Va accuracy: 0.604500\n"
     ]
    },
    {
     "name": "stdout",
     "output_type": "stream",
     "text": [
      "Epoch 190 | Tr cost: 0.465162 | Tr accuracy 0.774875 | Va cost: 0.790344 | Va accuracy: 0.605500\n",
      "Epoch 191 | Tr cost: 0.464914 | Tr accuracy 0.774500 | Va cost: 0.790894 | Va accuracy: 0.605000\n",
      "Epoch 192 | Tr cost: 0.464664 | Tr accuracy 0.774125 | Va cost: 0.791421 | Va accuracy: 0.607000\n",
      "Epoch 193 | Tr cost: 0.464413 | Tr accuracy 0.774250 | Va cost: 0.791925 | Va accuracy: 0.605500\n",
      "Epoch 194 | Tr cost: 0.464160 | Tr accuracy 0.774500 | Va cost: 0.792403 | Va accuracy: 0.606000\n",
      "Epoch 195 | Tr cost: 0.463904 | Tr accuracy 0.774250 | Va cost: 0.792857 | Va accuracy: 0.605500\n",
      "Epoch 196 | Tr cost: 0.463642 | Tr accuracy 0.774375 | Va cost: 0.793323 | Va accuracy: 0.606000\n",
      "Epoch 197 | Tr cost: 0.463377 | Tr accuracy 0.775250 | Va cost: 0.793810 | Va accuracy: 0.606000\n",
      "Epoch 198 | Tr cost: 0.463106 | Tr accuracy 0.775250 | Va cost: 0.794310 | Va accuracy: 0.606500\n",
      "Epoch 199 | Tr cost: 0.462835 | Tr accuracy 0.775875 | Va cost: 0.794815 | Va accuracy: 0.605500\n",
      "Epoch 200 | Tr cost: 0.462563 | Tr accuracy 0.776625 | Va cost: 0.795360 | Va accuracy: 0.606000\n"
     ]
    }
   ],
   "source": [
    "training_costs, validation_costs, training_accs, validation_accs, test_predictions = train_nn()"
   ]
  },
  {
   "cell_type": "code",
   "execution_count": 251,
   "metadata": {
    "collapsed": true,
    "deletable": false,
    "editable": false,
    "nbgrader": {
     "grade": true,
     "grade_id": "typechecks_v",
     "locked": true,
     "points": "5",
     "schema_version": 1,
     "solution": false
    }
   },
   "outputs": [],
   "source": [
    "## making sure your train_nn() function returns variables as expected\n",
    "assert type(training_accs)==list,\"incorrect return type\"\n",
    "assert type(validation_accs)==list, \"incorrect return type\"\n",
    "assert type(training_costs)==list, \"incorrect return type\"\n",
    "assert type(validation_costs)==list,\"incorrect return type\"\n",
    "assert type(test_predictions[0])==type(training_accs[0])==type(validation_accs[0])==type(training_costs[0])==type(validation_costs[0])==np.float64, \"incorrect return type\"\n",
    "assert len(training_accs)==len(validation_accs)==len(training_costs)==len(validation_costs)==training_epochs,\"incorrect returned lengths\"\n",
    "assert len(test_predictions)==len(test_features),\"incorrect returned lengths\""
   ]
  },
  {
   "cell_type": "markdown",
   "metadata": {
    "deletable": false,
    "editable": false,
    "nbgrader": {
     "grade": false,
     "grade_id": "cell-4ed33d0856316a08",
     "locked": true,
     "schema_version": 1,
     "solution": false
    }
   },
   "source": [
    "### Analyzing cost and accuracy trends vs number of epochs"
   ]
  },
  {
   "cell_type": "code",
   "execution_count": 252,
   "metadata": {
    "collapsed": true,
    "deletable": false,
    "editable": false,
    "nbgrader": {
     "grade": false,
     "grade_id": "cell-450747d7f0431e00",
     "locked": true,
     "schema_version": 1,
     "solution": false
    },
    "scrolled": false
   },
   "outputs": [],
   "source": [
    "def plot_cost_vs_epochs(training_costs, validation_costs):\n",
    "    plt.title(\"cost vs epochs\")\n",
    "    plt.plot(training_costs)\n",
    "    plt.plot(validation_costs)\n",
    "    plt.legend([\"training\",\"validation\"])"
   ]
  },
  {
   "cell_type": "code",
   "execution_count": 253,
   "metadata": {
    "collapsed": true,
    "deletable": false,
    "editable": false,
    "nbgrader": {
     "grade": false,
     "grade_id": "cell-78d0e31f3ed4005e",
     "locked": true,
     "schema_version": 1,
     "solution": false
    },
    "scrolled": true
   },
   "outputs": [],
   "source": [
    "def plot_acc_vs_epochs(training_acc, validation_acc):\n",
    "    plt.title(\"accuracy vs epochs\")\n",
    "    plt.plot(training_acc)\n",
    "    plt.plot(validation_acc)\n",
    "    plt.legend([\"training\",\"validation\"])"
   ]
  },
  {
   "cell_type": "code",
   "execution_count": 254,
   "metadata": {
    "collapsed": true,
    "deletable": false,
    "editable": false,
    "nbgrader": {
     "grade": false,
     "grade_id": "cell-5f2c5d57928f7a69",
     "locked": true,
     "schema_version": 1,
     "solution": false
    }
   },
   "outputs": [],
   "source": [
    "\n",
    "def plots(training_costs, validation_costs, training_accs, validation_accs):\n",
    "    \n",
    "    fig = plt.figure(figsize=(20,10))\n",
    "    \n",
    "    plt.subplot(1,2,1)\n",
    "    plot_cost_vs_epochs(training_costs, validation_costs)\n",
    "    plt.subplot(1,2,2)\n",
    "    plot_acc_vs_epochs(training_accs, validation_accs)"
   ]
  },
  {
   "cell_type": "code",
   "execution_count": 255,
   "metadata": {},
   "outputs": [
    {
     "data": {
      "image/png": "[encoded data removed]",
      "text/plain": [
       "<Figure size 1440x720 with 2 Axes>"
      ]
     },
     "metadata": {},
     "output_type": "display_data"
    }
   ],
   "source": [
    "plots(training_costs, validation_costs, training_accs, validation_accs)"
   ]
  },
  {
   "cell_type": "markdown",
   "metadata": {
    "deletable": false,
    "editable": false,
    "nbgrader": {
     "grade": false,
     "grade_id": "cell-7e48102290dfc483",
     "locked": true,
     "schema_version": 1,
     "solution": false
    }
   },
   "source": [
    "### Scoring Your Test Predictions\n",
    "\n",
    "The following code saves your test predictions locally in the same directory.\n",
    "\n",
    "It is required in order to give you a grade based on your network's performance."
   ]
  },
  {
   "cell_type": "code",
   "execution_count": 256,
   "metadata": {
    "collapsed": true,
    "deletable": false,
    "editable": false,
    "nbgrader": {
     "grade": false,
     "grade_id": "cell-9130fc95b3adda93",
     "locked": true,
     "schema_version": 1,
     "solution": false
    }
   },
   "outputs": [],
   "source": [
    "import pickle\n",
    "def save_test_predictions(test_predictions):\n",
    "     with open(cfg['output_predictions_pickle_path'], 'wb') as f:\n",
    "        pickle.dump(test_predictions, f)\n",
    "save_test_predictions(test_predictions)"
   ]
  },
  {
   "cell_type": "code",
   "execution_count": 257,
   "metadata": {
    "collapsed": true,
    "deletable": false,
    "editable": false,
    "nbgrader": {
     "grade": true,
     "grade_id": "threshold1_h",
     "locked": true,
     "points": "5",
     "schema_version": 1,
     "solution": false
    },
    "scrolled": true
   },
   "outputs": [],
   "source": [
    "#Hidden tests here\n",
    "###\n",
    "### AUTOGRADER TEST - DO NOT REMOVE\n",
    "###\n"
   ]
  },
  {
   "cell_type": "code",
   "execution_count": 258,
   "metadata": {
    "collapsed": true,
    "deletable": false,
    "editable": false,
    "nbgrader": {
     "grade": true,
     "grade_id": "threshold2_h",
     "locked": true,
     "points": "10",
     "schema_version": 1,
     "solution": false
    }
   },
   "outputs": [],
   "source": [
    "#Hidden tests here\n",
    "###\n",
    "### AUTOGRADER TEST - DO NOT REMOVE\n",
    "###\n"
   ]
  },
  {
   "cell_type": "code",
   "execution_count": 259,
   "metadata": {
    "collapsed": true,
    "deletable": false,
    "editable": false,
    "nbgrader": {
     "grade": true,
     "grade_id": "threshold3_h",
     "locked": true,
     "points": "15",
     "schema_version": 1,
     "solution": false
    }
   },
   "outputs": [],
   "source": [
    "#Hidden tests here\n",
    "###\n",
    "### AUTOGRADER TEST - DO NOT REMOVE\n",
    "###\n"
   ]
  },
  {
   "cell_type": "code",
   "execution_count": 260,
   "metadata": {
    "collapsed": true,
    "deletable": false,
    "editable": false,
    "nbgrader": {
     "grade": true,
     "grade_id": "threshold4_h",
     "locked": true,
     "points": "20",
     "schema_version": 1,
     "solution": false
    },
    "scrolled": true
   },
   "outputs": [],
   "source": [
    "#Hidden tests here\n",
    "###\n",
    "### AUTOGRADER TEST - DO NOT REMOVE\n",
    "###\n"
   ]
  }
 ],
 "metadata": {
  "celltoolbar": "Edit Metadata",
  "kernelspec": {
   "display_name": "Python 3 [3.6]",
   "language": "python",
   "name": "python3"
  },
  "language_info": {
   "codemirror_mode": {
    "name": "ipython",
    "version": 3
   },
   "file_extension": ".py",
   "mimetype": "text/x-python",
   "name": "python",
   "nbconvert_exporter": "python",
   "pygments_lexer": "ipython3",
   "version": "3.6.4"
  },
  "toc": {
   "base_numbering": 1,
   "nav_menu": [],
   "number_sections": true,
   "sideBar": true,
   "skip_h1_title": false,
   "title_cell": "Table of Contents",
   "title_sidebar": "Contents",
   "toc_cell": false,
   "toc_position": [],
   "toc_section_display": true,
   "toc_window_display": true
  },
  "varInspector": {
   "cols": {
    "lenName": 16,
    "lenType": 16,
    "lenVar": 40
   },
   "kernels_config": {
    "python": {
     "delete_cmd_postfix": "",
     "delete_cmd_prefix": "del ",
     "library": "var_list.py",
     "varRefreshCmd": "print(var_dic_list())"
    },
    "r": {
     "delete_cmd_postfix": ") ",
     "delete_cmd_prefix": "rm(",
     "library": "var_list.r",
     "varRefreshCmd": "cat(var_dic_list()) "
    }
   },
   "types_to_exclude": [
    "module",
    "function",
    "builtin_function_or_method",
    "instance",
    "_Feature"
   ],
   "window_display": false
  }
 },
 "nbformat": 4,
 "nbformat_minor": 2
}
